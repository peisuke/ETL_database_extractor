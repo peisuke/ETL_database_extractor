{
 "cells": [
  {
   "cell_type": "code",
   "execution_count": 1,
   "metadata": {},
   "outputs": [],
   "source": [
    "import os\n",
    "import glob\n",
    "import json\n",
    "from PIL import Image"
   ]
  },
  {
   "cell_type": "code",
   "execution_count": 2,
   "metadata": {},
   "outputs": [],
   "source": [
    "json_files = sorted(glob.glob('output/*.json'))"
   ]
  },
  {
   "cell_type": "code",
   "execution_count": 3,
   "metadata": {},
   "outputs": [
    {
     "name": "stdout",
     "output_type": "stream",
     "text": [
      "139807\n"
     ]
    },
    {
     "data": {
      "text/plain": [
       "'253f'"
      ]
     },
     "metadata": {},
     "output_type": "display_data"
    },
    {
     "data": {
      "image/png": "[encoded data removed]",
      "text/plain": [
       "<PIL.PngImagePlugin.PngImageFile image mode=RGBA size=64x63 at 0x7FDF52EF0358>"
      ]
     },
     "metadata": {},
     "output_type": "display_data"
    }
   ],
   "source": [
    "with open(json_files[0], 'r') as f:\n",
    "    etl = json.load(f)\n",
    "    \n",
    "print(len(etl))\n",
    "d = etl[90000]\n",
    "\n",
    "#  JIS Kanji Code (JIS X 0208)\n",
    "display(hex(d['label'])[2:])\n",
    "display(Image.open(os.path.join('output', d['filename'])))"
   ]
  },
  {
   "cell_type": "code",
   "execution_count": 4,
   "metadata": {},
   "outputs": [
    {
     "name": "stdout",
     "output_type": "stream",
     "text": [
      "156279\n"
     ]
    },
    {
     "data": {
      "text/plain": [
       "'2345'"
      ]
     },
     "metadata": {},
     "output_type": "display_data"
    },
    {
     "data": {
      "image/png": "[encoded data removed]",
      "text/plain": [
       "<PIL.PngImagePlugin.PngImageFile image mode=RGBA size=64x63 at 0x7FDF7004BE80>"
      ]
     },
     "metadata": {},
     "output_type": "display_data"
    }
   ],
   "source": [
    "with open(json_files[1], 'r') as f:\n",
    "    etl = json.load(f)\n",
    "    \n",
    "print(len(etl))\n",
    "d = etl[90000]\n",
    "\n",
    "#  JIS Kanji Code (JIS X 0208)\n",
    "display(hex(d['label'])[2:])\n",
    "display(Image.open(os.path.join('output', d['filename'])))"
   ]
  },
  {
   "cell_type": "code",
   "execution_count": 5,
   "metadata": {},
   "outputs": [
    {
     "name": "stdout",
     "output_type": "stream",
     "text": [
      "33600\n"
     ]
    },
    {
     "data": {
      "text/plain": [
       "'2473'"
      ]
     },
     "metadata": {},
     "output_type": "display_data"
    },
    {
     "data": {
      "image/png": "[encoded data removed]",
      "text/plain": [
       "<PIL.PngImagePlugin.PngImageFile image mode=RGBA size=64x63 at 0x7FDF5A92C358>"
      ]
     },
     "metadata": {},
     "output_type": "display_data"
    }
   ],
   "source": [
    "with open(json_files[2], 'r') as f:\n",
    "    etl = json.load(f)\n",
    "\n",
    "print(len(etl))\n",
    "d = etl[9000]\n",
    "\n",
    "#  JIS Kanji Code (JIS X 0208)\n",
    "display(hex(d['label'])[2:])\n",
    "display(Image.open(os.path.join('output', d['filename'])))"
   ]
  },
  {
   "cell_type": "code",
   "execution_count": 6,
   "metadata": {},
   "outputs": [
    {
     "name": "stdout",
     "output_type": "stream",
     "text": [
      "153919\n"
     ]
    },
    {
     "data": {
      "text/plain": [
       "'245e'"
      ]
     },
     "metadata": {},
     "output_type": "display_data"
    },
    {
     "data": {
      "image/png": "[encoded data removed]",
      "text/plain": [
       "<PIL.PngImagePlugin.PngImageFile image mode=RGBA size=64x63 at 0x7FDF5A92C278>"
      ]
     },
     "metadata": {},
     "output_type": "display_data"
    }
   ],
   "source": [
    "with open(json_files[3], 'r') as f:\n",
    "    etl = json.load(f)\n",
    "\n",
    "print(len(etl))\n",
    "d = etl[9000]\n",
    "\n",
    "#  JIS Kanji Code (JIS X 0208)\n",
    "display(hex(d['label'])[2:])\n",
    "display(Image.open(os.path.join('output', d['filename'])))"
   ]
  },
  {
   "cell_type": "code",
   "execution_count": 7,
   "metadata": {},
   "outputs": [
    {
     "name": "stdout",
     "output_type": "stream",
     "text": [
      "153916\n"
     ]
    },
    {
     "data": {
      "text/plain": [
       "'343f'"
      ]
     },
     "metadata": {},
     "output_type": "display_data"
    },
    {
     "data": {
      "image/png": "[encoded data removed]",
      "text/plain": [
       "<PIL.PngImagePlugin.PngImageFile image mode=RGBA size=128x127 at 0x7FDF5A92C0B8>"
      ]
     },
     "metadata": {},
     "output_type": "display_data"
    }
   ],
   "source": [
    "with open(json_files[4], 'r') as f:\n",
    "    etl = json.load(f)\n",
    "\n",
    "print(len(etl))\n",
    "d = etl[9000]\n",
    "\n",
    "#  JIS Kanji Code (JIS X 0208)\n",
    "display(hex(d['label'])[2:])\n",
    "display(Image.open(os.path.join('output', d['filename'])))"
   ]
  },
  {
   "cell_type": "code",
   "execution_count": 8,
   "metadata": {},
   "outputs": [
    {
     "name": "stdout",
     "output_type": "stream",
     "text": [
      "610241\n"
     ]
    },
    {
     "data": {
      "text/plain": [
       "'4e45'"
      ]
     },
     "metadata": {},
     "output_type": "display_data"
    },
    {
     "data": {
      "image/png": "[encoded data removed]",
      "text/plain": [
       "<PIL.PngImagePlugin.PngImageFile image mode=RGBA size=64x63 at 0x7FDF5A92C400>"
      ]
     },
     "metadata": {},
     "output_type": "display_data"
    }
   ],
   "source": [
    "with open(json_files[5], 'r') as f:\n",
    "    etl = json.load(f)\n",
    "\n",
    "print(len(etl))\n",
    "d = etl[9000]\n",
    "\n",
    "#  JIS Kanji Code (JIS X 0208)\n",
    "display(hex(d['label'])[2:])\n",
    "display(Image.open(os.path.join('output', d['filename'])))"
   ]
  },
  {
   "cell_type": "code",
   "execution_count": 9,
   "metadata": {},
   "outputs": [
    {
     "name": "stdout",
     "output_type": "stream",
     "text": [
      "607200\n"
     ]
    },
    {
     "data": {
      "text/plain": [
       "'4e47'"
      ]
     },
     "metadata": {},
     "output_type": "display_data"
    },
    {
     "data": {
      "image/png": "[encoded data removed]",
      "text/plain": [
       "<PIL.PngImagePlugin.PngImageFile image mode=RGBA size=128x127 at 0x7FDF5A92C3C8>"
      ]
     },
     "metadata": {},
     "output_type": "display_data"
    }
   ],
   "source": [
    "with open(json_files[6], 'r') as f:\n",
    "    etl = json.load(f)\n",
    "\n",
    "print(len(etl))\n",
    "d = etl[9000]\n",
    "\n",
    "#  JIS Kanji Code (JIS X 0208)\n",
    "display(hex(d['label'])[2:])\n",
    "display(Image.open(os.path.join('output', d['filename'])))"
   ]
  },
  {
   "cell_type": "code",
   "execution_count": null,
   "metadata": {},
   "outputs": [],
   "source": []
  }
 ],
 "metadata": {
  "kernelspec": {
   "display_name": "Python 3",
   "language": "python",
   "name": "python3"
  },
  "language_info": {
   "codemirror_mode": {
    "name": "ipython",
    "version": 3
   },
   "file_extension": ".py",
   "mimetype": "text/x-python",
   "name": "python",
   "nbconvert_exporter": "python",
   "pygments_lexer": "ipython3",
   "version": "3.6.8"
  }
 },
 "nbformat": 4,
 "nbformat_minor": 4
}
