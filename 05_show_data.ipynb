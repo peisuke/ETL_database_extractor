{
 "cells": [
  {
   "cell_type": "code",
   "execution_count": 1,
   "metadata": {},
   "outputs": [],
   "source": [
    "import os\n",
    "import glob\n",
    "import json\n",
    "from PIL import Image"
   ]
  },
  {
   "cell_type": "code",
   "execution_count": 2,
   "metadata": {},
   "outputs": [],
   "source": [
    "json_files = sorted(glob.glob('output/*.json'))"
   ]
  },
  {
   "cell_type": "code",
   "execution_count": 3,
   "metadata": {},
   "outputs": [
    {
     "name": "stdout",
     "output_type": "stream",
     "text": [
      "139807\n"
     ]
    },
    {
     "data": {
      "text/plain": [
       "'253f'"
      ]
     },
     "metadata": {},
     "output_type": "display_data"
    },
    {
     "data": {
      "image/png": "[encoded data removed]",
      "text/plain": [
       "<PIL.PngImagePlugin.PngImageFile image mode=RGBA size=64x63 at 0x7F7C26F9D390>"
      ]
     },
     "metadata": {},
     "output_type": "display_data"
    }
   ],
   "source": [
    "with open(json_files[0], 'r') as f:\n",
    "    etl = json.load(f)\n",
    "    \n",
    "print(len(etl))\n",
    "d = etl[90000]\n",
    "\n",
    "#  JIS Kanji Code (JIS X 0208)\n",
    "display(hex(d['label'])[2:])\n",
    "display(Image.open(os.path.join('output', d['filename'])))"
   ]
  },
  {
   "cell_type": "code",
   "execution_count": 4,
   "metadata": {},
   "outputs": [
    {
     "name": "stdout",
     "output_type": "stream",
     "text": [
      "156279\n"
     ]
    },
    {
     "data": {
      "text/plain": [
       "'2345'"
      ]
     },
     "metadata": {},
     "output_type": "display_data"
    },
    {
     "data": {
      "image/png": "[encoded data removed]",
      "text/plain": [
       "<PIL.PngImagePlugin.PngImageFile image mode=RGBA size=64x63 at 0x7F7C370CA630>"
      ]
     },
     "metadata": {},
     "output_type": "display_data"
    }
   ],
   "source": [
    "with open(json_files[1], 'r') as f:\n",
    "    etl = json.load(f)\n",
    "    \n",
    "print(len(etl))\n",
    "d = etl[90000]\n",
    "\n",
    "#  JIS Kanji Code (JIS X 0208)\n",
    "display(hex(d['label'])[2:])\n",
    "display(Image.open(os.path.join('output', d['filename'])))"
   ]
  },
  {
   "cell_type": "code",
   "execution_count": 5,
   "metadata": {},
   "outputs": [
    {
     "name": "stdout",
     "output_type": "stream",
     "text": [
      "33600\n"
     ]
    },
    {
     "data": {
      "text/plain": [
       "'2473'"
      ]
     },
     "metadata": {},
     "output_type": "display_data"
    },
    {
     "data": {
      "image/png": "[encoded data removed]",
      "text/plain": [
       "<PIL.PngImagePlugin.PngImageFile image mode=RGBA size=64x63 at 0x7F7C26F47C18>"
      ]
     },
     "metadata": {},
     "output_type": "display_data"
    }
   ],
   "source": [
    "with open(json_files[2], 'r') as f:\n",
    "    etl = json.load(f)\n",
    "\n",
    "print(len(etl))\n",
    "d = etl[9000]\n",
    "\n",
    "#  JIS Kanji Code (JIS X 0208)\n",
    "display(hex(d['label'])[2:])\n",
    "display(Image.open(os.path.join('output', d['filename'])))"
   ]
  },
  {
   "cell_type": "code",
   "execution_count": null,
   "metadata": {},
   "outputs": [],
   "source": [
    "with open(json_files[3], 'r') as f:\n",
    "    etl = json.load(f)\n",
    "\n",
    "print(len(etl))\n",
    "d = etl[9000]\n",
    "\n",
    "#  JIS Kanji Code (JIS X 0208)\n",
    "display(hex(d['label'])[2:])\n",
    "display(Image.open(os.path.join('output', d['filename'])))"
   ]
  },
  {
   "cell_type": "code",
   "execution_count": null,
   "metadata": {},
   "outputs": [],
   "source": [
    "with open(json_files[4], 'r') as f:\n",
    "    etl = json.load(f)\n",
    "\n",
    "print(len(etl))\n",
    "d = etl[9000]\n",
    "\n",
    "#  JIS Kanji Code (JIS X 0208)\n",
    "display(hex(d['label'])[2:])\n",
    "display(Image.open(os.path.join('output', d['filename'])))"
   ]
  },
  {
   "cell_type": "code",
   "execution_count": null,
   "metadata": {},
   "outputs": [],
   "source": [
    "with open(json_files[5], 'r') as f:\n",
    "    etl = json.load(f)\n",
    "\n",
    "print(len(etl))\n",
    "d = etl[9000]\n",
    "\n",
    "#  JIS Kanji Code (JIS X 0208)\n",
    "display(hex(d['label'])[2:])\n",
    "display(Image.open(os.path.join('output', d['filename'])))"
   ]
  },
  {
   "cell_type": "code",
   "execution_count": null,
   "metadata": {},
   "outputs": [],
   "source": [
    "with open(json_files[6], 'r') as f:\n",
    "    etl = json.load(f)\n",
    "\n",
    "print(len(etl))\n",
    "d = etl[9000]\n",
    "\n",
    "#  JIS Kanji Code (JIS X 0208)\n",
    "display(hex(d['label'])[2:])\n",
    "display(Image.open(os.path.join('output', d['filename'])))"
   ]
  },
  {
   "cell_type": "code",
   "execution_count": null,
   "metadata": {},
   "outputs": [],
   "source": []
  }
 ],
 "metadata": {
  "kernelspec": {
   "display_name": "Python 3",
   "language": "python",
   "name": "python3"
  },
  "language_info": {
   "codemirror_mode": {
    "name": "ipython",
    "version": 3
   },
   "file_extension": ".py",
   "mimetype": "text/x-python",
   "name": "python",
   "nbconvert_exporter": "python",
   "pygments_lexer": "ipython3",
   "version": "3.7.3"
  }
 },
 "nbformat": 4,
 "nbformat_minor": 4
}
