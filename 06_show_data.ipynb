{
 "cells": [
  {
   "cell_type": "code",
   "execution_count": 1,
   "metadata": {},
   "outputs": [],
   "source": [
    "import os\n",
    "import glob\n",
    "import json\n",
    "from PIL import Image"
   ]
  },
  {
   "cell_type": "code",
   "execution_count": 2,
   "metadata": {},
   "outputs": [],
   "source": [
    "base_dir = 'denoised'\n",
    "json_files = sorted(glob.glob(os.path.join(base_dir, '*.json')))"
   ]
  },
  {
   "cell_type": "code",
   "execution_count": 3,
   "metadata": {},
   "outputs": [
    {
     "name": "stdout",
     "output_type": "stream",
     "text": [
      "138864\n"
     ]
    },
    {
     "data": {
      "text/plain": [
       "'チ'"
      ]
     },
     "metadata": {},
     "output_type": "display_data"
    },
    {
     "data": {
      "image/png": "[encoded data removed]",
      "text/plain": [
       "<PIL.PngImagePlugin.PngImageFile image mode=L size=40x58 at 0x7FB9001E64A8>"
      ]
     },
     "metadata": {},
     "output_type": "display_data"
    }
   ],
   "source": [
    "with open(json_files[0], 'r') as f:\n",
    "    etl = json.load(f)\n",
    "etl = list(filter(lambda x: x['valid'], etl))\n",
    "\n",
    "print(len(etl))\n",
    "d = etl[90000]\n",
    "\n",
    "#  JIS Kanji Code (JIS X 0208)\n",
    "display(chr(d['label']))\n",
    "display(Image.open(os.path.join(base_dir, d['filename'])))"
   ]
  },
  {
   "cell_type": "code",
   "execution_count": 4,
   "metadata": {},
   "outputs": [
    {
     "name": "stdout",
     "output_type": "stream",
     "text": [
      "148375\n"
     ]
    },
    {
     "data": {
      "text/plain": [
       "'Ｆ'"
      ]
     },
     "metadata": {},
     "output_type": "display_data"
    },
    {
     "data": {
      "image/png": "[encoded data removed]",
      "text/plain": [
       "<PIL.PngImagePlugin.PngImageFile image mode=L size=33x57 at 0x7FB900234048>"
      ]
     },
     "metadata": {},
     "output_type": "display_data"
    }
   ],
   "source": [
    "with open(json_files[1], 'r') as f:\n",
    "    etl = json.load(f)\n",
    "etl = list(filter(lambda x: x['valid'], etl))\n",
    "\n",
    "print(len(etl))\n",
    "d = etl[90000]\n",
    "\n",
    "#  JIS Kanji Code (JIS X 0208)\n",
    "display(chr(d['label']))\n",
    "display(Image.open(os.path.join(base_dir, d['filename'])))"
   ]
  },
  {
   "cell_type": "code",
   "execution_count": 5,
   "metadata": {},
   "outputs": [
    {
     "name": "stdout",
     "output_type": "stream",
     "text": [
      "33166\n"
     ]
    },
    {
     "data": {
      "text/plain": [
       "'ん'"
      ]
     },
     "metadata": {},
     "output_type": "display_data"
    },
    {
     "data": {
      "image/png": "[encoded data removed]",
      "text/plain": [
       "<PIL.PngImagePlugin.PngImageFile image mode=L size=34x48 at 0x7FB900208BE0>"
      ]
     },
     "metadata": {},
     "output_type": "display_data"
    }
   ],
   "source": [
    "with open(json_files[2], 'r') as f:\n",
    "    etl = json.load(f)\n",
    "\n",
    "etl = list(filter(lambda x: x['valid'], etl))\n",
    "print(len(etl))\n",
    "d = etl[9000]\n",
    "\n",
    "#  JIS Kanji Code (JIS X 0208)\n",
    "display(chr(d['label']))\n",
    "display(Image.open(os.path.join(base_dir, d['filename'])))"
   ]
  },
  {
   "cell_type": "code",
   "execution_count": 6,
   "metadata": {},
   "outputs": [
    {
     "name": "stdout",
     "output_type": "stream",
     "text": [
      "153916\n"
     ]
    },
    {
     "data": {
      "text/plain": [
       "'ま'"
      ]
     },
     "metadata": {},
     "output_type": "display_data"
    },
    {
     "data": {
      "image/png": "[encoded data removed]",
      "text/plain": [
       "<PIL.PngImagePlugin.PngImageFile image mode=L size=61x73 at 0x7FB90021B390>"
      ]
     },
     "metadata": {},
     "output_type": "display_data"
    }
   ],
   "source": [
    "with open(json_files[3], 'r') as f:\n",
    "    etl = json.load(f)\n",
    "\n",
    "etl = list(filter(lambda x: x['valid'], etl))\n",
    "\n",
    "print(len(etl))\n",
    "d = etl[9000]\n",
    "\n",
    "#  JIS Kanji Code (JIS X 0208)\n",
    "display(chr(d['label']))\n",
    "display(Image.open(os.path.join(base_dir, d['filename'])))"
   ]
  },
  {
   "cell_type": "code",
   "execution_count": 7,
   "metadata": {},
   "outputs": [
    {
     "name": "stdout",
     "output_type": "stream",
     "text": [
      "153916\n"
     ]
    },
    {
     "data": {
      "text/plain": [
       "'歓'"
      ]
     },
     "metadata": {},
     "output_type": "display_data"
    },
    {
     "data": {
      "image/png": "[encoded data removed]",
      "text/plain": [
       "<PIL.PngImagePlugin.PngImageFile image mode=L size=88x92 at 0x7FB90021B828>"
      ]
     },
     "metadata": {},
     "output_type": "display_data"
    }
   ],
   "source": [
    "with open(json_files[4], 'r') as f:\n",
    "    etl = json.load(f)\n",
    "\n",
    "etl = list(filter(lambda x: x['valid'], etl))\n",
    "\n",
    "print(len(etl))\n",
    "d = etl[9000]\n",
    "\n",
    "#  JIS Kanji Code (JIS X 0208)\n",
    "display(chr(d['label']))\n",
    "display(Image.open(os.path.join(base_dir, d['filename'])))"
   ]
  },
  {
   "cell_type": "code",
   "execution_count": 8,
   "metadata": {},
   "outputs": [
    {
     "name": "stdout",
     "output_type": "stream",
     "text": [
      "610236\n"
     ]
    },
    {
     "data": {
      "text/plain": [
       "'瞭'"
      ]
     },
     "metadata": {},
     "output_type": "display_data"
    },
    {
     "data": {
      "image/png": "[encoded data removed]",
      "text/plain": [
       "<PIL.PngImagePlugin.PngImageFile image mode=L size=66x69 at 0x7FB900208BE0>"
      ]
     },
     "metadata": {},
     "output_type": "display_data"
    }
   ],
   "source": [
    "with open(json_files[5], 'r') as f:\n",
    "    etl = json.load(f)\n",
    "\n",
    "etl = list(filter(lambda x: x['valid'], etl))\n",
    "\n",
    "print(len(etl))\n",
    "d = etl[9000]\n",
    "\n",
    "#  JIS Kanji Code (JIS X 0208)\n",
    "display(chr(d['label']))\n",
    "display(Image.open(os.path.join(base_dir, d['filename'])))"
   ]
  },
  {
   "cell_type": "code",
   "execution_count": 9,
   "metadata": {},
   "outputs": [
    {
     "name": "stdout",
     "output_type": "stream",
     "text": [
      "607200\n"
     ]
    },
    {
     "data": {
      "text/plain": [
       "'稜'"
      ]
     },
     "metadata": {},
     "output_type": "display_data"
    },
    {
     "data": {
      "image/png": "[encoded data removed]",
      "text/plain": [
       "<PIL.PngImagePlugin.PngImageFile image mode=L size=68x72 at 0x7FB900208AC8>"
      ]
     },
     "metadata": {},
     "output_type": "display_data"
    }
   ],
   "source": [
    "with open(json_files[6], 'r') as f:\n",
    "    etl = json.load(f)\n",
    "\n",
    "etl = list(filter(lambda x: x['valid'], etl))\n",
    "\n",
    "print(len(etl))\n",
    "d = etl[9000]\n",
    "\n",
    "#  JIS Kanji Code (JIS X 0208)\n",
    "display(chr(d['label']))\n",
    "display(Image.open(os.path.join(base_dir, d['filename'])))"
   ]
  },
  {
   "cell_type": "code",
   "execution_count": null,
   "metadata": {},
   "outputs": [],
   "source": []
  }
 ],
 "metadata": {
  "kernelspec": {
   "display_name": "Python 3",
   "language": "python",
   "name": "python3"
  },
  "language_info": {
   "codemirror_mode": {
    "name": "ipython",
    "version": 3
   },
   "file_extension": ".py",
   "mimetype": "text/x-python",
   "name": "python",
   "nbconvert_exporter": "python",
   "pygments_lexer": "ipython3",
   "version": "3.7.3"
  }
 },
 "nbformat": 4,
 "nbformat_minor": 4
}
